{
 "cells": [
  {
   "cell_type": "markdown",
   "metadata": {},
   "source": [
    "# Exercice d'échantillonage"
   ]
  },
  {
   "cell_type": "markdown",
   "metadata": {},
   "source": [
    "Cet exercice a comme but d'illustrer le calcul de la moyenne et de l'écart-type pour une population respectivement un échantillon de cette population. Pour l'échantillon, nous calculons également les intervalles de confiance pour la moyenne et l'écart-type."
   ]
  },
  {
   "cell_type": "markdown",
   "metadata": {},
   "source": [
    "## Préparation des données"
   ]
  },
  {
   "cell_type": "markdown",
   "metadata": {},
   "source": [
    "Pour cet exercice, nous allons calculer la proportion de la population âgée moins de 20 ans pour l'ensemble des 1365 régions Z05 suisses. Le fichier d'origine se trouve dans `data/demo.xlsx`. Nous avons converti ce fichier en format TSV (_Tab-Separated Values_) que nous utilisons pour lire les données avec R:"
   ]
  },
  {
   "cell_type": "code",
   "execution_count": 1,
   "metadata": {
    "collapsed": false
   },
   "outputs": [],
   "source": [
    "d = read.csv(file=\"demo.tsv\", sep=\"\\t\")"
   ]
  },
  {
   "cell_type": "markdown",
   "metadata": {},
   "source": [
    "et calculer la proportion des moins de 20 ans:"
   ]
  },
  {
   "cell_type": "code",
   "execution_count": 2,
   "metadata": {
    "collapsed": false
   },
   "outputs": [],
   "source": [
    "d$jeunes = (d$P0004M + d$P0004F + d$P0509M + d$P0509F + d$P1014M + d$P1014F + d$P1519M + d$P1519F) / (d$PTOT)"
   ]
  },
  {
   "cell_type": "markdown",
   "metadata": {},
   "source": [
    "Nous pouvons afficher quelques valeurs de statistique descriptive pour cette nouvelle variable:"
   ]
  },
  {
   "cell_type": "code",
   "execution_count": 3,
   "metadata": {
    "collapsed": false
   },
   "outputs": [
    {
     "data": {
      "text/plain": [
       "   Min. 1st Qu.  Median    Mean 3rd Qu.    Max. \n",
       "0.07416 0.18890 0.21150 0.21020 0.23280 0.33100 "
      ]
     },
     "metadata": {},
     "output_type": "display_data"
    }
   ],
   "source": [
    "summary(d$jeunes)"
   ]
  },
  {
   "cell_type": "markdown",
   "metadata": {},
   "source": [
    "ainsi que le nombre d'unités spatiales:"
   ]
  },
  {
   "cell_type": "code",
   "execution_count": 4,
   "metadata": {
    "collapsed": false
   },
   "outputs": [
    {
     "data": {
      "text/html": [
       "1365"
      ],
      "text/latex": [
       "1365"
      ],
      "text/markdown": [
       "1365"
      ],
      "text/plain": [
       "[1] 1365"
      ]
     },
     "metadata": {},
     "output_type": "display_data"
    }
   ],
   "source": [
    "length(d$jeunes)"
   ]
  },
  {
   "cell_type": "markdown",
   "metadata": {},
   "source": [
    "Pour cet exercice, nous faisons une sélection aléatoire de 100 unités spatiales:"
   ]
  },
  {
   "cell_type": "code",
   "execution_count": 5,
   "metadata": {
    "collapsed": true
   },
   "outputs": [],
   "source": [
    "de = d[sample(1:nrow(d), 100, replace=FALSE),]"
   ]
  },
  {
   "cell_type": "markdown",
   "metadata": {},
   "source": [
    "_(il n'est pas nécessaire de comprendre comment cette sélection fonctionne exactement au niveau du code; généralement on ne procède pas de cette façon étant donné qu'on ne travaille pas sur un échantillon si on a toutes les données à disposition)_"
   ]
  },
  {
   "cell_type": "markdown",
   "metadata": {},
   "source": [
    "## Moyenne et écart-type"
   ]
  },
  {
   "cell_type": "markdown",
   "metadata": {},
   "source": [
    "Voici la moyenne de la proportion de jeunes sur la base de notre échantillon (les valeurs varient d'une fois à l'autre puisqu'il s'agit d'un échantillon aléatoire):"
   ]
  },
  {
   "cell_type": "code",
   "execution_count": 6,
   "metadata": {
    "collapsed": false
   },
   "outputs": [
    {
     "data": {
      "text/html": [
       "0.202744474460069"
      ],
      "text/latex": [
       "0.202744474460069"
      ],
      "text/markdown": [
       "0.202744474460069"
      ],
      "text/plain": [
       "[1] 0.2027445"
      ]
     },
     "metadata": {},
     "output_type": "display_data"
    }
   ],
   "source": [
    "mean(de$jeunes)"
   ]
  },
  {
   "cell_type": "markdown",
   "metadata": {},
   "source": [
    "à comparer avec la moyenne sur l'ensemble de la population:"
   ]
  },
  {
   "cell_type": "code",
   "execution_count": 7,
   "metadata": {
    "collapsed": false
   },
   "outputs": [
    {
     "data": {
      "text/html": [
       "0.210159452094786"
      ],
      "text/latex": [
       "0.210159452094786"
      ],
      "text/markdown": [
       "0.210159452094786"
      ],
      "text/plain": [
       "[1] 0.2101595"
      ]
     },
     "metadata": {},
     "output_type": "display_data"
    }
   ],
   "source": [
    "mean(d$jeunes)"
   ]
  },
  {
   "cell_type": "markdown",
   "metadata": {},
   "source": [
    "L'écart-type de notre échantillon de 100 unités spatiales peut être calculé très simplement dans R:"
   ]
  },
  {
   "cell_type": "code",
   "execution_count": 8,
   "metadata": {
    "collapsed": false
   },
   "outputs": [
    {
     "data": {
      "text/html": [
       "0.0350837202500813"
      ],
      "text/latex": [
       "0.0350837202500813"
      ],
      "text/markdown": [
       "0.0350837202500813"
      ],
      "text/plain": [
       "[1] 0.03508372"
      ]
     },
     "metadata": {},
     "output_type": "display_data"
    }
   ],
   "source": [
    "sd(de$jeunes)"
   ]
  },
  {
   "cell_type": "markdown",
   "metadata": {},
   "source": [
    "tandis que l'écart-type sur l'ensemble de la population doit être calculé manuellement:"
   ]
  },
  {
   "cell_type": "code",
   "execution_count": 9,
   "metadata": {
    "collapsed": false
   },
   "outputs": [
    {
     "data": {
      "text/html": [
       "0.0353350283603119"
      ],
      "text/latex": [
       "0.0353350283603119"
      ],
      "text/markdown": [
       "0.0353350283603119"
      ],
      "text/plain": [
       "[1] 0.03533503"
      ]
     },
     "metadata": {},
     "output_type": "display_data"
    }
   ],
   "source": [
    "sqrt(mean(d$jeunes^2) - mean(d$jeunes)^2)"
   ]
  },
  {
   "cell_type": "markdown",
   "metadata": {},
   "source": [
    "En effet, R utilise dans la fonction `sd` (standard deviation = écart-type) la formule pour l'écart-type d'un échantillon."
   ]
  },
  {
   "cell_type": "markdown",
   "metadata": {},
   "source": [
    "## Intervalle de confiance"
   ]
  },
  {
   "cell_type": "markdown",
   "metadata": {},
   "source": [
    "En plus de l'estimation de la moyenne de la proportion des jeunes sur la base de notre échantillon, nous pouvons estimer l'intervalle dans lequel la _vraie valeur_ se trouve avec une certaine probabilité.\n",
    "\n",
    "Nous supposons ici que la variable de la proportion des jeunes suit une loi normale (respectivement une loi de Student). Ainsi, l'intervalle de confiance pour une probabilité de 95% peut être calculée comme suit:"
   ]
  },
  {
   "cell_type": "code",
   "execution_count": 10,
   "metadata": {
    "collapsed": true
   },
   "outputs": [],
   "source": [
    "m = mean(de$jeunes)\n",
    "s = sd(de$jeunes)\n",
    "n = length(de$jeunes)\n",
    "erreur = qt(0.975, df=n-1) * s / sqrt(n)\n",
    "left = m - erreur\n",
    "right = m + erreur"
   ]
  },
  {
   "cell_type": "markdown",
   "metadata": {},
   "source": [
    "Et pour afficher l'intervalle, y compris la moyenne:"
   ]
  },
  {
   "cell_type": "code",
   "execution_count": 11,
   "metadata": {
    "collapsed": false
   },
   "outputs": [
    {
     "data": {
      "text/html": [
       "<ol class=list-inline>\n",
       "\t<li>0.195783103215577</li>\n",
       "\t<li>0.202744474460069</li>\n",
       "\t<li>0.209705845704562</li>\n",
       "</ol>\n"
      ],
      "text/latex": [
       "\\begin{enumerate*}\n",
       "\\item 0.195783103215577\n",
       "\\item 0.202744474460069\n",
       "\\item 0.209705845704562\n",
       "\\end{enumerate*}\n"
      ],
      "text/markdown": [
       "1. 0.195783103215577\n",
       "2. 0.202744474460069\n",
       "3. 0.209705845704562\n",
       "\n",
       "\n"
      ],
      "text/plain": [
       "[1] 0.1957831 0.2027445 0.2097058"
      ]
     },
     "metadata": {},
     "output_type": "display_data"
    }
   ],
   "source": [
    "c(left, m, right)"
   ]
  },
  {
   "cell_type": "markdown",
   "metadata": {},
   "source": [
    "La _moyenne de la population_ pour la proportion de jeunes dans les régions Z05 en Suisse se situe donc avec une probabilité de 95% dans l'intervalle 19.58% à 20.97%. (P.S. Les valeurs exactes peuvent varier d'une fois à l'autre en fonction de l'échantillon aléatoire.)\n",
    "\n",
    "Dans notre cas spécial, nous connaissons en fait la vraie valeur de la population, qui est de 21.01%, et donc un peu en dehors de l'intervalle (ce qui arrive en moyenne 1 fois sur 20)."
   ]
  },
  {
   "cell_type": "markdown",
   "metadata": {},
   "source": [
    "On peut aussi calculer l'intervalle avec une probabilté de 99%:"
   ]
  },
  {
   "cell_type": "code",
   "execution_count": 12,
   "metadata": {
    "collapsed": false
   },
   "outputs": [
    {
     "data": {
      "text/html": [
       "<ol class=list-inline>\n",
       "\t<li>0.193530067027417</li>\n",
       "\t<li>0.202744474460069</li>\n",
       "\t<li>0.211958881892722</li>\n",
       "</ol>\n"
      ],
      "text/latex": [
       "\\begin{enumerate*}\n",
       "\\item 0.193530067027417\n",
       "\\item 0.202744474460069\n",
       "\\item 0.211958881892722\n",
       "\\end{enumerate*}\n"
      ],
      "text/markdown": [
       "1. 0.193530067027417\n",
       "2. 0.202744474460069\n",
       "3. 0.211958881892722\n",
       "\n",
       "\n"
      ],
      "text/plain": [
       "[1] 0.1935301 0.2027445 0.2119589"
      ]
     },
     "metadata": {},
     "output_type": "display_data"
    }
   ],
   "source": [
    "erreur = qt(0.995, df=n-1) * s / sqrt(n)\n",
    "left = m - erreur\n",
    "right = m + erreur\n",
    "c(left, m, right)"
   ]
  },
  {
   "cell_type": "markdown",
   "metadata": {},
   "source": [
    "et l'intervalle est dans ce cas de 19.35% à 21.20%. Et la vraie valeur de 21.01% se situe du coup à l'intérieur de cette intervalle."
   ]
  }
 ],
 "metadata": {
  "kernelspec": {
   "display_name": "R",
   "language": "R",
   "name": "ir"
  },
  "language_info": {
   "codemirror_mode": "r",
   "file_extension": ".r",
   "mimetype": "text/x-r-source",
   "name": "R",
   "pygments_lexer": "r",
   "version": "3.2.4"
  },
  "latex_envs": {
   "LaTeX_envs_menu_present": true,
   "bibliofile": "biblio.bib",
   "cite_by": "apalike",
   "current_citInitial": 1,
   "eqLabelWithNumbers": true,
   "eqNumInitial": 1,
   "labels_anchors": false,
   "latex_user_defs": false,
   "report_style_numbering": false,
   "user_envs_cfg": false
  }
 },
 "nbformat": 4,
 "nbformat_minor": 2
}
